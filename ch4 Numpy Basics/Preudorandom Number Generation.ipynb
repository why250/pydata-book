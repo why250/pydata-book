{
 "cells": [
  {
   "cell_type": "code",
   "execution_count": 2,
   "id": "506393d5-f208-4c83-beb2-cf4763220b78",
   "metadata": {},
   "outputs": [
    {
     "data": {
      "text/plain": [
       "array([[-0.54862315, -0.21593136, -0.15623023,  0.49380085],\n",
       "       [-0.34734106,  1.5207759 , -0.63952354,  0.56851225],\n",
       "       [ 0.87639452, -0.04223502,  1.93521872,  0.49076159],\n",
       "       [-0.79579077,  0.50339443,  1.77229128, -0.06266591]])"
      ]
     },
     "execution_count": 2,
     "metadata": {},
     "output_type": "execute_result"
    }
   ],
   "source": [
    "import numpy as np\n",
    "samples = np.random.standard_normal((4,4))\n",
    "samples"
   ]
  },
  {
   "cell_type": "code",
   "execution_count": 5,
   "id": "8ef0ba8f-ae7c-4e7a-8282-bf7b44477a8e",
   "metadata": {},
   "outputs": [],
   "source": [
    "from random import normalvariate as normal\n",
    "N = 1000000"
   ]
  },
  {
   "cell_type": "code",
   "execution_count": 6,
   "id": "c8e7d274-4ee6-4d7c-8214-ee995d3d5371",
   "metadata": {},
   "outputs": [
    {
     "name": "stdout",
     "output_type": "stream",
     "text": [
      "555 ms ± 8.48 ms per loop (mean ± std. dev. of 7 runs, 1 loop each)\n",
      "17.9 ms ± 245 µs per loop (mean ± std. dev. of 7 runs, 100 loops each)\n"
     ]
    }
   ],
   "source": [
    "%timeit samples = [normal(0,1) for i in range(N)]\n",
    "%timeit np.random.standard_normal(N)"
   ]
  },
  {
   "cell_type": "code",
   "execution_count": 7,
   "id": "c762f8df-ecfb-48d1-afe9-e0e66719730f",
   "metadata": {},
   "outputs": [
    {
     "data": {
      "text/plain": [
       "array([-1.60383681,  0.06409991,  0.7408913 ,  0.15261919,  0.86374389,\n",
       "        2.91309922, -1.47882336,  0.94547297, -1.66613546,  0.34374458])"
      ]
     },
     "execution_count": 7,
     "metadata": {},
     "output_type": "execute_result"
    }
   ],
   "source": [
    "# We say that these are pseudorandom numbers because they are generated\n",
    "# by an algorithm with deterministic behavior based on the seed of the random number generator\n",
    "\n",
    "rng = np.random.default_rng(seed=1234)\n",
    "rng.standard_normal(10)"
   ]
  },
  {
   "cell_type": "code",
   "execution_count": 8,
   "id": "6e9e3a3b-9ee7-44f7-ab75-a1e62aadf903",
   "metadata": {},
   "outputs": [
    {
     "data": {
      "text/plain": [
       "\u001b[1;31mDocstring:\u001b[0m\n",
       "default_rng(seed=None)\n",
       "Construct a new Generator with the default BitGenerator (PCG64).\n",
       "\n",
       "    Parameters\n",
       "    ----------\n",
       "    seed : {None, int, array_like[ints], SeedSequence, BitGenerator, Generator}, optional\n",
       "        A seed to initialize the `BitGenerator`. If None, then fresh,\n",
       "        unpredictable entropy will be pulled from the OS. If an ``int`` or\n",
       "        ``array_like[ints]`` is passed, then it will be passed to\n",
       "        `SeedSequence` to derive the initial `BitGenerator` state. One may also\n",
       "        pass in a `SeedSequence` instance.\n",
       "        Additionally, when passed a `BitGenerator`, it will be wrapped by\n",
       "        `Generator`. If passed a `Generator`, it will be returned unaltered.\n",
       "\n",
       "    Returns\n",
       "    -------\n",
       "    Generator\n",
       "        The initialized generator object.\n",
       "\n",
       "    Notes\n",
       "    -----\n",
       "    If ``seed`` is not a `BitGenerator` or a `Generator`, a new `BitGenerator`\n",
       "    is instantiated. This function does not manage a default global instance.\n",
       "\n",
       "    See :ref:`seeding_and_entropy` for more information about seeding.\n",
       "    \n",
       "    Examples\n",
       "    --------\n",
       "    ``default_rng`` is the recommended constructor for the random number class\n",
       "    ``Generator``. Here are several ways we can construct a random \n",
       "    number generator using ``default_rng`` and the ``Generator`` class. \n",
       "    \n",
       "    Here we use ``default_rng`` to generate a random float:\n",
       " \n",
       "    >>> import numpy as np\n",
       "    >>> rng = np.random.default_rng(12345)\n",
       "    >>> print(rng)\n",
       "    Generator(PCG64)\n",
       "    >>> rfloat = rng.random()\n",
       "    >>> rfloat\n",
       "    0.22733602246716966\n",
       "    >>> type(rfloat)\n",
       "    <class 'float'>\n",
       "     \n",
       "    Here we use ``default_rng`` to generate 3 random integers between 0 \n",
       "    (inclusive) and 10 (exclusive):\n",
       "        \n",
       "    >>> import numpy as np\n",
       "    >>> rng = np.random.default_rng(12345)\n",
       "    >>> rints = rng.integers(low=0, high=10, size=3)\n",
       "    >>> rints\n",
       "    array([6, 2, 7])\n",
       "    >>> type(rints[0])\n",
       "    <class 'numpy.int64'>\n",
       "    \n",
       "    Here we specify a seed so that we have reproducible results:\n",
       "    \n",
       "    >>> import numpy as np\n",
       "    >>> rng = np.random.default_rng(seed=42)\n",
       "    >>> print(rng)\n",
       "    Generator(PCG64)\n",
       "    >>> arr1 = rng.random((3, 3))\n",
       "    >>> arr1\n",
       "    array([[0.77395605, 0.43887844, 0.85859792],\n",
       "           [0.69736803, 0.09417735, 0.97562235],\n",
       "           [0.7611397 , 0.78606431, 0.12811363]])\n",
       "\n",
       "    If we exit and restart our Python interpreter, we'll see that we\n",
       "    generate the same random numbers again:\n",
       "\n",
       "    >>> import numpy as np\n",
       "    >>> rng = np.random.default_rng(seed=42)\n",
       "    >>> arr2 = rng.random((3, 3))\n",
       "    >>> arr2\n",
       "    array([[0.77395605, 0.43887844, 0.85859792],\n",
       "           [0.69736803, 0.09417735, 0.97562235],\n",
       "           [0.7611397 , 0.78606431, 0.12811363]])\n",
       "\n",
       "    \n",
       "\u001b[1;31mType:\u001b[0m      builtin_function_or_method"
      ]
     },
     "metadata": {},
     "output_type": "display_data"
    }
   ],
   "source": [
    "np.random.default_rng?"
   ]
  },
  {
   "cell_type": "code",
   "execution_count": null,
   "id": "0435675d-25e5-4f1b-9dbe-0eabf0d49eb8",
   "metadata": {},
   "outputs": [],
   "source": []
  }
 ],
 "metadata": {
  "kernelspec": {
   "display_name": "Python 3 (ipykernel)",
   "language": "python",
   "name": "python3"
  },
  "language_info": {
   "codemirror_mode": {
    "name": "ipython",
    "version": 3
   },
   "file_extension": ".py",
   "mimetype": "text/x-python",
   "name": "python",
   "nbconvert_exporter": "python",
   "pygments_lexer": "ipython3",
   "version": "3.12.2"
  }
 },
 "nbformat": 4,
 "nbformat_minor": 5
}
