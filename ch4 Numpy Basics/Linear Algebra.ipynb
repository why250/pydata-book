{
 "cells": [
  {
   "cell_type": "code",
   "execution_count": 1,
   "id": "a58c5d3f-5eb7-4c9f-a2e7-eeb62bafc996",
   "metadata": {},
   "outputs": [
    {
     "data": {
      "text/plain": [
       "array([[ 28.,  64.],\n",
       "       [ 67., 181.]])"
      ]
     },
     "execution_count": 1,
     "metadata": {},
     "output_type": "execute_result"
    }
   ],
   "source": [
    "import numpy as np\n",
    "x = np.array([[1., 2., 3.], [4., 5., 6.]])\n",
    "y = np.array([[6., 23.], [-1, 7], [8, 9]])\n",
    "x.dot(y)"
   ]
  },
  {
   "cell_type": "code",
   "execution_count": 2,
   "id": "eee246ad-d16e-480a-9717-c26e64c5ddc8",
   "metadata": {},
   "outputs": [
    {
     "data": {
      "text/plain": [
       "array([[ 28.,  64.],\n",
       "       [ 67., 181.]])"
      ]
     },
     "execution_count": 2,
     "metadata": {},
     "output_type": "execute_result"
    }
   ],
   "source": [
    "np.dot(x,y)"
   ]
  },
  {
   "cell_type": "code",
   "execution_count": 3,
   "id": "78bf52b2-b868-4410-b55f-6819954338fa",
   "metadata": {},
   "outputs": [
    {
     "data": {
      "text/plain": [
       "array([ 6., 15.])"
      ]
     },
     "execution_count": 3,
     "metadata": {},
     "output_type": "execute_result"
    }
   ],
   "source": [
    "np.dot(x,np.ones(3))"
   ]
  },
  {
   "cell_type": "code",
   "execution_count": 4,
   "id": "47fff77d-a3c2-4137-8b00-d7f582d6eb7d",
   "metadata": {},
   "outputs": [
    {
     "data": {
      "text/plain": [
       "array([ 6., 15.])"
      ]
     },
     "execution_count": 4,
     "metadata": {},
     "output_type": "execute_result"
    }
   ],
   "source": [
    "x @ np.ones(3) # The @ symbol (as of Python 3.5) also works as an infix operator that\n",
    "# performs matrix multiplication"
   ]
  },
  {
   "cell_type": "code",
   "execution_count": 5,
   "id": "8ff1053d-c203-48cd-9800-63a499ccd186",
   "metadata": {},
   "outputs": [],
   "source": [
    "# numpy.linalg has a standard set of matrix decompositions and things\n",
    "# like inverse and determinant"
   ]
  },
  {
   "cell_type": "code",
   "execution_count": 6,
   "id": "9c0944f8-80e0-4f22-8ed8-cf337afeab35",
   "metadata": {},
   "outputs": [],
   "source": [
    "from numpy.linalg import inv, qr# linear algebra"
   ]
  },
  {
   "cell_type": "code",
   "execution_count": 8,
   "id": "bac46fc9-6d4b-451a-888a-afb16b808438",
   "metadata": {},
   "outputs": [],
   "source": [
    "x = np.random.standard_normal((5,5))"
   ]
  },
  {
   "cell_type": "code",
   "execution_count": 10,
   "id": "a2a62446-cbe5-426d-a0f4-d248436a806c",
   "metadata": {},
   "outputs": [
    {
     "data": {
      "text/plain": [
       "array([[ 6.83244269,  3.96921247,  4.9639723 , -7.83558989, -1.20914738],\n",
       "       [ 3.96921247,  2.57906446,  2.90025913, -4.50890229, -0.52828506],\n",
       "       [ 4.9639723 ,  2.90025913,  4.03440418, -5.84516425, -0.94218595],\n",
       "       [-7.83558989, -4.50890229, -5.84516425,  9.33832519,  1.55865474],\n",
       "       [-1.20914738, -0.52828506, -0.94218595,  1.55865474,  0.52099855]])"
      ]
     },
     "execution_count": 10,
     "metadata": {},
     "output_type": "execute_result"
    }
   ],
   "source": [
    "mat = x.T.dot(x)\n",
    "inv(mat)"
   ]
  },
  {
   "cell_type": "code",
   "execution_count": 11,
   "id": "cffdd025-64e5-4fe8-9e1f-b8e14916ad2b",
   "metadata": {},
   "outputs": [
    {
     "data": {
      "text/plain": [
       "array([[ 1.00000000e+00, -1.49880108e-15,  4.49640325e-15,\n",
       "        -4.99600361e-16,  8.32667268e-17],\n",
       "       [ 5.32907052e-15,  1.00000000e+00,  8.88178420e-16,\n",
       "         1.77635684e-15,  4.44089210e-16],\n",
       "       [-1.13797860e-15, -1.11022302e-15,  1.00000000e+00,\n",
       "        -1.99840144e-15,  2.22044605e-16],\n",
       "       [ 4.44089210e-16,  4.21884749e-15,  2.22044605e-15,\n",
       "         1.00000000e+00, -4.44089210e-16],\n",
       "       [-3.55271368e-15,  4.44089210e-16, -8.88178420e-16,\n",
       "         0.00000000e+00,  1.00000000e+00]])"
      ]
     },
     "execution_count": 11,
     "metadata": {},
     "output_type": "execute_result"
    }
   ],
   "source": [
    "mat.dot(inv(mat))"
   ]
  },
  {
   "cell_type": "code",
   "execution_count": 12,
   "id": "4481a895-8cb9-44ff-a15f-2702436abb8f",
   "metadata": {},
   "outputs": [],
   "source": [
    "q, r = qr(mat)\n",
    "# QR decomposition is a technique used to convert a matrix into the form A = QR, where R equals upper triangular matrix, \n",
    "# Q equals orthogonal matrix, and Q^(T)Q=I holds, where Q^(T) is the Qs' transpose, and I is the matrixs' identity."
   ]
  },
  {
   "cell_type": "code",
   "execution_count": 13,
   "id": "1dffa111-0490-4efb-8a35-1354c81b3fea",
   "metadata": {},
   "outputs": [
    {
     "data": {
      "text/plain": [
       "array([[-7.30858791,  4.13518114, -0.27627799, -4.26374232, -0.56276656],\n",
       "       [ 0.        , -6.97904672,  0.23947923, -4.68787559,  8.52007206],\n",
       "       [ 0.        ,  0.        , -3.08440116, -2.06715976,  0.57826288],\n",
       "       [ 0.        ,  0.        ,  0.        , -0.47046785,  2.88925882],\n",
       "       [ 0.        ,  0.        ,  0.        ,  0.        ,  0.43316105]])"
      ]
     },
     "execution_count": 13,
     "metadata": {},
     "output_type": "execute_result"
    }
   ],
   "source": [
    "r"
   ]
  },
  {
   "cell_type": "code",
   "execution_count": 14,
   "id": "523547e0-5340-4f99-a791-0270d52150a4",
   "metadata": {},
   "outputs": [
    {
     "data": {
      "text/plain": [
       "array([[-0.80412789, -0.08230327,  0.18732914,  0.1928534 , -0.52375554],\n",
       "       [ 0.37638134, -0.6687133 ,  0.06957111,  0.5949413 , -0.22883251],\n",
       "       [ 0.05135675,  0.09902262, -0.90566375,  0.02774279, -0.40811825],\n",
       "       [-0.45651103, -0.42901162, -0.37366648,  0.10997519,  0.67514852],\n",
       "       [-0.02599201,  0.59345787, -0.0146348 ,  0.77200273,  0.22567628]])"
      ]
     },
     "execution_count": 14,
     "metadata": {},
     "output_type": "execute_result"
    }
   ],
   "source": [
    "q"
   ]
  },
  {
   "cell_type": "code",
   "execution_count": 15,
   "id": "08d7d70a-b3d3-4397-8956-4dcb377a690b",
   "metadata": {},
   "outputs": [
    {
     "data": {
      "text/plain": [
       "array([[ 1.00000000e+00,  4.16333634e-17,  2.77555756e-17,\n",
       "        -1.66533454e-16, -1.24900090e-16],\n",
       "       [ 4.16333634e-17,  1.00000000e+00, -1.38777878e-17,\n",
       "         2.77555756e-17, -6.24500451e-17],\n",
       "       [ 2.77555756e-17, -1.38777878e-17,  1.00000000e+00,\n",
       "        -1.66533454e-16, -4.16333634e-17],\n",
       "       [-1.66533454e-16,  2.77555756e-17, -1.66533454e-16,\n",
       "         1.00000000e+00,  2.77555756e-17],\n",
       "       [-1.24900090e-16, -6.24500451e-17, -4.16333634e-17,\n",
       "         2.77555756e-17,  1.00000000e+00]])"
      ]
     },
     "execution_count": 15,
     "metadata": {},
     "output_type": "execute_result"
    }
   ],
   "source": [
    "q.dot(q.T)"
   ]
  },
  {
   "cell_type": "code",
   "execution_count": null,
   "id": "8adf9bad-2bb4-414a-a597-2775c5e5e261",
   "metadata": {},
   "outputs": [],
   "source": []
  }
 ],
 "metadata": {
  "kernelspec": {
   "display_name": "Python 3 (ipykernel)",
   "language": "python",
   "name": "python3"
  },
  "language_info": {
   "codemirror_mode": {
    "name": "ipython",
    "version": 3
   },
   "file_extension": ".py",
   "mimetype": "text/x-python",
   "name": "python",
   "nbconvert_exporter": "python",
   "pygments_lexer": "ipython3",
   "version": "3.12.2"
  }
 },
 "nbformat": 4,
 "nbformat_minor": 5
}
