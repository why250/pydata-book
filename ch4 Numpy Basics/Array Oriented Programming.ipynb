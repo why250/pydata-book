{
 "cells": [
  {
   "cell_type": "code",
   "execution_count": 3,
   "id": "7d5f2022-e673-4790-b76b-fe6f275386f4",
   "metadata": {},
   "outputs": [],
   "source": [
    "# This practice of replacing explicit loops with array expressions is\n",
    "# referred to by some people vectorization\n",
    "import numpy as np"
   ]
  },
  {
   "cell_type": "markdown",
   "id": "d9b6963e-6937-477a-a40a-b8b41bebbb4a",
   "metadata": {},
   "source": [
    "# Expressing Conditional Logic as Array Operations"
   ]
  },
  {
   "cell_type": "code",
   "execution_count": 4,
   "id": "c561002f-04bf-44a7-ae28-90450a9a1112",
   "metadata": {},
   "outputs": [],
   "source": [
    "xarr = np.array([1.1, 1.2, 1.3, 1.4, 1.5])\n",
    "yarr = np.array([2.1, 2.2, 2.3, 2.4, 2.5])\n",
    "cond = np.array([True, False, True, True, False])"
   ]
  },
  {
   "cell_type": "code",
   "execution_count": 6,
   "id": "9b2e31b2-0ff0-4f09-bbf3-19fb23537604",
   "metadata": {},
   "outputs": [
    {
     "data": {
      "text/plain": [
       "array([1.1, 2.2, 1.3, 1.4, 2.5])"
      ]
     },
     "execution_count": 6,
     "metadata": {},
     "output_type": "execute_result"
    }
   ],
   "source": [
    "result = np.where(cond,xarr,yarr)\n",
    "result"
   ]
  },
  {
   "cell_type": "code",
   "execution_count": 9,
   "id": "36137faf-df2c-4b01-973b-f193c7e2b931",
   "metadata": {},
   "outputs": [
    {
     "data": {
      "text/plain": [
       "array([[-0.26606687, -0.22252618, -2.01757529,  2.18610773],\n",
       "       [ 0.30783624,  1.67779953,  0.93921049,  0.21083356],\n",
       "       [ 1.40911062,  0.22255947,  0.73181359,  0.943061  ],\n",
       "       [-0.33723758, -0.93538426,  0.28887787,  0.14163598]])"
      ]
     },
     "execution_count": 9,
     "metadata": {},
     "output_type": "execute_result"
    }
   ],
   "source": [
    "# The second and third arguments to np.where don’t need to be arrays; one or both of them can be scalars\n",
    "arr = np.random.standard_normal((4, 4))\n",
    "arr"
   ]
  },
  {
   "cell_type": "code",
   "execution_count": 10,
   "id": "50a54d89-e2ed-4d2c-990a-e3ffc8a0825f",
   "metadata": {},
   "outputs": [
    {
     "data": {
      "text/plain": [
       "array([[False, False, False,  True],\n",
       "       [ True,  True,  True,  True],\n",
       "       [ True,  True,  True,  True],\n",
       "       [False, False,  True,  True]])"
      ]
     },
     "execution_count": 10,
     "metadata": {},
     "output_type": "execute_result"
    }
   ],
   "source": [
    "arr > 0"
   ]
  },
  {
   "cell_type": "code",
   "execution_count": 11,
   "id": "89d019fc-3716-4d11-b1fe-665fccbea4a4",
   "metadata": {},
   "outputs": [
    {
     "data": {
      "text/plain": [
       "array([[-2, -2, -2,  2],\n",
       "       [ 2,  2,  2,  2],\n",
       "       [ 2,  2,  2,  2],\n",
       "       [-2, -2,  2,  2]])"
      ]
     },
     "execution_count": 11,
     "metadata": {},
     "output_type": "execute_result"
    }
   ],
   "source": [
    "np.where(arr > 0,2,-2)"
   ]
  },
  {
   "cell_type": "code",
   "execution_count": 13,
   "id": "1f3cf648-0a28-45d9-bc1e-8ce1e5421653",
   "metadata": {},
   "outputs": [
    {
     "data": {
      "text/plain": [
       "array([[-0.26606687, -0.22252618, -2.01757529,  2.        ],\n",
       "       [ 2.        ,  2.        ,  2.        ,  2.        ],\n",
       "       [ 2.        ,  2.        ,  2.        ,  2.        ],\n",
       "       [-0.33723758, -0.93538426,  2.        ,  2.        ]])"
      ]
     },
     "execution_count": 13,
     "metadata": {},
     "output_type": "execute_result"
    }
   ],
   "source": [
    "np.where(arr > 0,2,arr) #  set only positive values to 2"
   ]
  },
  {
   "cell_type": "markdown",
   "id": "ea5ab2c6-1eba-485e-8c80-e5e3c8f64d62",
   "metadata": {},
   "source": [
    "# Mathmatical and Statistical Methods"
   ]
  },
  {
   "cell_type": "code",
   "execution_count": 14,
   "id": "7eddd029-db98-468b-95a1-16195d89af0f",
   "metadata": {},
   "outputs": [
    {
     "data": {
      "text/plain": [
       "array([[-0.31217889, -2.05296886, -0.38392427, -1.65608493],\n",
       "       [-1.17336761, -1.30563143,  0.71750909,  1.0968905 ],\n",
       "       [ 1.27007902,  0.3176228 , -1.13034754, -1.1498476 ],\n",
       "       [-0.74155322,  0.08375449, -2.28940769, -0.56607285],\n",
       "       [-0.36103449,  0.32465798,  0.92800555, -0.29348175]])"
      ]
     },
     "execution_count": 14,
     "metadata": {},
     "output_type": "execute_result"
    }
   ],
   "source": [
    "arr = np.random.standard_normal((5, 4))\n",
    "arr"
   ]
  },
  {
   "cell_type": "code",
   "execution_count": 15,
   "id": "4b0a771c-5ea1-4d0c-b0bb-df2e0d016e3a",
   "metadata": {},
   "outputs": [
    {
     "data": {
      "text/plain": [
       "-0.4338690843967951"
      ]
     },
     "execution_count": 15,
     "metadata": {},
     "output_type": "execute_result"
    }
   ],
   "source": [
    "arr.mean()"
   ]
  },
  {
   "cell_type": "code",
   "execution_count": 20,
   "id": "e96805d5-7e12-4b7e-89ec-95cae3f1fdb1",
   "metadata": {},
   "outputs": [
    {
     "data": {
      "text/plain": [
       "array([-1.10128924, -0.16614986, -0.17312333, -0.87831982,  0.14953682])"
      ]
     },
     "execution_count": 20,
     "metadata": {},
     "output_type": "execute_result"
    }
   ],
   "source": [
    "arr.mean(axis=1) #\n",
    "# Here, arr.mean(1) (which is the same as arr.mean(axis=1))"
   ]
  },
  {
   "cell_type": "code",
   "execution_count": 19,
   "id": "7e90e8e6-466f-4542-b0c4-73101368b17d",
   "metadata": {},
   "outputs": [
    {
     "data": {
      "text/plain": [
       "array([-0.26361104, -0.526513  , -0.43163297, -0.51371932])"
      ]
     },
     "execution_count": 19,
     "metadata": {},
     "output_type": "execute_result"
    }
   ],
   "source": [
    "arr.mean(axis=0) # Returns the average of the array elements along axis 0.\n",
    "# axis 0 is vertical , axis 1 is horizontal"
   ]
  },
  {
   "cell_type": "code",
   "execution_count": 21,
   "id": "40dfceae-5ae4-4644-a3f0-875e21894948",
   "metadata": {
    "scrolled": true
   },
   "outputs": [
    {
     "data": {
      "text/plain": [
       "\u001b[1;31mDocstring:\u001b[0m\n",
       "a.mean(axis=None, dtype=None, out=None, keepdims=False, *, where=True)\n",
       "\n",
       "Returns the average of the array elements along given axis.\n",
       "\n",
       "Refer to `numpy.mean` for full documentation.\n",
       "\n",
       "See Also\n",
       "--------\n",
       "numpy.mean : equivalent function\n",
       "\u001b[1;31mType:\u001b[0m      builtin_function_or_method"
      ]
     },
     "metadata": {},
     "output_type": "display_data"
    }
   ],
   "source": [
    "arr.mean?"
   ]
  },
  {
   "cell_type": "markdown",
   "id": "e03d96f8-8c1b-4ad9-89d3-1b8ea5736702",
   "metadata": {},
   "source": [
    "# Methods for Boolean Arrays"
   ]
  },
  {
   "cell_type": "code",
   "execution_count": 22,
   "id": "d083a7b0-1603-4c0f-8e6e-b4f7a1978047",
   "metadata": {},
   "outputs": [
    {
     "data": {
      "text/plain": [
       "array([-0.28930263,  0.24222237,  0.89044664, -0.34681121, -1.36503649,\n",
       "        0.67472355, -0.04376168, -1.98716412, -0.14610451, -0.14315188])"
      ]
     },
     "execution_count": 22,
     "metadata": {},
     "output_type": "execute_result"
    }
   ],
   "source": [
    "arr = np.random.standard_normal(10)\n",
    "arr"
   ]
  },
  {
   "cell_type": "code",
   "execution_count": 23,
   "id": "f7c3a842-4814-43c8-94f7-234f1eacb17c",
   "metadata": {},
   "outputs": [
    {
     "data": {
      "text/plain": [
       "array([False,  True,  True, False, False,  True, False, False, False,\n",
       "       False])"
      ]
     },
     "execution_count": 23,
     "metadata": {},
     "output_type": "execute_result"
    }
   ],
   "source": [
    "arr > 0"
   ]
  },
  {
   "cell_type": "code",
   "execution_count": 24,
   "id": "17508a23-53f5-442c-940d-00d1627abc86",
   "metadata": {},
   "outputs": [
    {
     "data": {
      "text/plain": [
       "3"
      ]
     },
     "execution_count": 24,
     "metadata": {},
     "output_type": "execute_result"
    }
   ],
   "source": [
    "(arr > 0).sum()"
   ]
  },
  {
   "cell_type": "code",
   "execution_count": 25,
   "id": "8bb744e9-103f-41c6-a63c-d3047dfcb46d",
   "metadata": {},
   "outputs": [
    {
     "data": {
      "text/plain": [
       "True"
      ]
     },
     "execution_count": 25,
     "metadata": {},
     "output_type": "execute_result"
    }
   ],
   "source": [
    "(arr > 0 ).any()"
   ]
  },
  {
   "cell_type": "code",
   "execution_count": 26,
   "id": "ab2a040f-39f2-4d39-bf25-d0a889c93fbb",
   "metadata": {},
   "outputs": [
    {
     "data": {
      "text/plain": [
       "False"
      ]
     },
     "execution_count": 26,
     "metadata": {},
     "output_type": "execute_result"
    }
   ],
   "source": [
    "(arr > 0 ).all()"
   ]
  },
  {
   "cell_type": "markdown",
   "id": "d84c91e9-6208-4ba8-a2d2-5ede81f0f722",
   "metadata": {},
   "source": [
    "# Sorting"
   ]
  },
  {
   "cell_type": "code",
   "execution_count": 27,
   "id": "bd29aac6-f880-4bfe-b98b-85866a35ed20",
   "metadata": {},
   "outputs": [
    {
     "data": {
      "text/plain": [
       "array([[-0.68793335, -1.2712326 ,  0.70132403],\n",
       "       [ 0.4217717 ,  1.67006442, -0.98256548],\n",
       "       [ 0.39878714,  0.24823381, -0.86223833],\n",
       "       [-0.09087728,  0.71458961,  0.18824812],\n",
       "       [-0.26013219,  2.35743459, -0.80008176]])"
      ]
     },
     "execution_count": 27,
     "metadata": {},
     "output_type": "execute_result"
    }
   ],
   "source": [
    "arr = np.random.standard_normal((5, 3))\n",
    "arr"
   ]
  },
  {
   "cell_type": "code",
   "execution_count": 30,
   "id": "7ee3d54c-4fcc-4817-9668-1b753319a059",
   "metadata": {},
   "outputs": [
    {
     "data": {
      "text/plain": [
       "array([[-1.2712326 , -0.68793335,  0.70132403],\n",
       "       [-0.98256548,  0.4217717 ,  1.67006442],\n",
       "       [-0.86223833,  0.24823381,  0.39878714],\n",
       "       [-0.09087728,  0.18824812,  0.71458961],\n",
       "       [-0.80008176, -0.26013219,  2.35743459]])"
      ]
     },
     "execution_count": 30,
     "metadata": {},
     "output_type": "execute_result"
    }
   ],
   "source": [
    "arr.sort(1)\n",
    "arr # sort along axis 1"
   ]
  },
  {
   "cell_type": "code",
   "execution_count": 32,
   "id": "fd286541-7245-43a9-8a0c-491bd437ddc7",
   "metadata": {},
   "outputs": [
    {
     "data": {
      "text/plain": [
       "array([[-1.2712326 , -0.68793335,  0.70132403],\n",
       "       [-0.98256548,  0.4217717 ,  1.67006442],\n",
       "       [-0.86223833,  0.24823381,  0.39878714],\n",
       "       [-0.09087728,  0.18824812,  0.71458961],\n",
       "       [-0.80008176, -0.26013219,  2.35743459]])"
      ]
     },
     "execution_count": 32,
     "metadata": {},
     "output_type": "execute_result"
    }
   ],
   "source": [
    "sorted_arr2 = np.sort(arr)\n",
    "sorted_arr2 # The top-level method np.sort returns a sorted copy of an array instead of\n",
    "# modifying the array in-place"
   ]
  },
  {
   "cell_type": "markdown",
   "id": "06df0b16-94b6-4a69-b103-b152d7abcbb4",
   "metadata": {},
   "source": [
    "# Unique and Other Set Logic"
   ]
  },
  {
   "cell_type": "code",
   "execution_count": 34,
   "id": "99cbb126-4f56-478a-ac3a-54510e6ef5bd",
   "metadata": {},
   "outputs": [
    {
     "data": {
      "text/plain": [
       "array(['Bob', 'Joe', 'Will'], dtype='<U4')"
      ]
     },
     "execution_count": 34,
     "metadata": {},
     "output_type": "execute_result"
    }
   ],
   "source": [
    "names = np.array(['Bob', 'Joe', 'Will', 'Bob', 'Will','Joe', 'Joe'])\n",
    "np.unique(names)\n",
    "#  A commonly used one is np.unique, which returns the sorted unique values in an array:"
   ]
  },
  {
   "cell_type": "code",
   "execution_count": null,
   "id": "abd28f0c-db86-45bc-9c28-ab94d301ba90",
   "metadata": {},
   "outputs": [],
   "source": []
  },
  {
   "cell_type": "code",
   "execution_count": null,
   "id": "3a37e6b9-c0ed-41a2-b77c-4b1f38341b89",
   "metadata": {},
   "outputs": [],
   "source": []
  }
 ],
 "metadata": {
  "kernelspec": {
   "display_name": "Python 3 (ipykernel)",
   "language": "python",
   "name": "python3"
  },
  "language_info": {
   "codemirror_mode": {
    "name": "ipython",
    "version": 3
   },
   "file_extension": ".py",
   "mimetype": "text/x-python",
   "name": "python",
   "nbconvert_exporter": "python",
   "pygments_lexer": "ipython3",
   "version": "3.12.2"
  }
 },
 "nbformat": 4,
 "nbformat_minor": 5
}
